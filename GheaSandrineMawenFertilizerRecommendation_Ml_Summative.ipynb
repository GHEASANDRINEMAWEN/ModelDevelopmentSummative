{
 "cells": [
  {
   "cell_type": "markdown",
   "metadata": {},
   "source": [
    "I acquired my fertilizer recommendation dataset from Kaggle, a renowned platform for data science resources. This dataset is rich in critical information, including temperature, humidity, moisture, soil type, crop type, nitrogen, potassium, phosphorous, and the corresponding recommended fertilizer. The diverse and comprehensive nature of the dataset, made available through Kaggle, has empowered me to delve into the intricate relationships between environmental factors and the optimal selection of fertilizers for various crops. This exploration is instrumental in enhancing my understanding of the factors influencing fertilizer recommendations in diverse agricultural conditions.\n",
    "\n",
    "\n",
    "The dataset contains information related to fertilizer recommendations and is structured with the following columns:\n",
    "\n",
    "1. Temperature: Indicates the temperature conditions, likely influencing the choice of fertilizer.\n",
    "2. Humidity: Represents the level of humidity, which can impact the effectiveness of different fertilizers.\n",
    "3. Moisture: Describes the moisture content, another important factor for fertilizer selection.\n",
    "4. Soil Type: Specifies the type of soil, which influences the choice of fertilizer.\n",
    "5. Crop Type: Indicates the type of crop for which the fertilizer recommendation is made.\n",
    "6. Nitrogen: Provides information about the nitrogen content in the soil.\n",
    "7. Potassium: Represents the potassium content in the soil.\n",
    "8. Phosphorous: Describes the phosphorous content in the soil.\n",
    "9. Fertilizer Name: This is the output or target variable, indicating the recommended fertilizer based on the specified conditions.\n",
    "\n",
    "\n",
    "By exploring and analyzing this dataset, you can gain insights into the relationships between environmental factors and the recommended fertilizers for specific crops. This information is valuable for making informed decisions about fertilizer application in agriculture."
   ]
  },
  {
   "cell_type": "code",
   "execution_count": 44,
   "metadata": {},
   "outputs": [
    {
     "name": "stdout",
     "output_type": "stream",
     "text": [
      "Requirement already satisfied: scikit-learn in c:\\users\\hp\\anaconda3\\lib\\site-packages (1.3.2)\n",
      "Requirement already satisfied: numpy<2.0,>=1.17.3 in c:\\users\\hp\\anaconda3\\lib\\site-packages (from scikit-learn) (1.24.3)\n",
      "Requirement already satisfied: scipy>=1.5.0 in c:\\users\\hp\\anaconda3\\lib\\site-packages (from scikit-learn) (1.11.1)\n",
      "Requirement already satisfied: joblib>=1.1.1 in c:\\users\\hp\\anaconda3\\lib\\site-packages (from scikit-learn) (1.2.0)\n",
      "Requirement already satisfied: threadpoolctl>=2.0.0 in c:\\users\\hp\\anaconda3\\lib\\site-packages (from scikit-learn) (2.2.0)\n",
      "Requirement already satisfied: imbalanced-learn in c:\\users\\hp\\anaconda3\\lib\\site-packages (0.11.0)\n",
      "Requirement already satisfied: numpy>=1.17.3 in c:\\users\\hp\\anaconda3\\lib\\site-packages (from imbalanced-learn) (1.24.3)\n",
      "Requirement already satisfied: scipy>=1.5.0 in c:\\users\\hp\\anaconda3\\lib\\site-packages (from imbalanced-learn) (1.11.1)\n",
      "Requirement already satisfied: scikit-learn>=1.0.2 in c:\\users\\hp\\anaconda3\\lib\\site-packages (from imbalanced-learn) (1.3.2)\n",
      "Requirement already satisfied: joblib>=1.1.1 in c:\\users\\hp\\anaconda3\\lib\\site-packages (from imbalanced-learn) (1.2.0)\n",
      "Requirement already satisfied: threadpoolctl>=2.0.0 in c:\\users\\hp\\anaconda3\\lib\\site-packages (from imbalanced-learn) (2.2.0)\n"
     ]
    }
   ],
   "source": [
    "!pip install --upgrade scikit-learn\n",
    "!pip install --upgrade imbalanced-learn\n"
   ]
  },
  {
   "cell_type": "code",
   "execution_count": 45,
   "metadata": {
    "id": "jYredqpo3dnN"
   },
   "outputs": [],
   "source": [
    "import pandas as pd\n",
    "import numpy as np\n",
    "import matplotlib.pyplot as plt\n",
    "import seaborn as sns\n",
    "from sklearn.metrics import classification_report\n",
    "from sklearn.model_selection import cross_val_score\n",
    "from sklearn.preprocessing import StandardScaler, LabelEncoder\n",
    "from sklearn.model_selection import train_test_split\n",
    "from sklearn import metrics\n",
    "from sklearn import tree\n",
    "#from imblearn.over_sampling import SMOTE\n",
    "\n",
    "from collections import Counter\n",
    "import warnings\n",
    "warnings.filterwarnings('ignore')"
   ]
  },
  {
   "cell_type": "code",
   "execution_count": 46,
   "metadata": {
    "colab": {
     "base_uri": "https://localhost:8080/",
     "height": 206
    },
    "id": "qSn9Lnn_3lhw",
    "outputId": "3ab52b59-7dec-4678-c5d3-256a8cc7a964"
   },
   "outputs": [
    {
     "data": {
      "text/html": [
       "<div>\n",
       "<style scoped>\n",
       "    .dataframe tbody tr th:only-of-type {\n",
       "        vertical-align: middle;\n",
       "    }\n",
       "\n",
       "    .dataframe tbody tr th {\n",
       "        vertical-align: top;\n",
       "    }\n",
       "\n",
       "    .dataframe thead th {\n",
       "        text-align: right;\n",
       "    }\n",
       "</style>\n",
       "<table border=\"1\" class=\"dataframe\">\n",
       "  <thead>\n",
       "    <tr style=\"text-align: right;\">\n",
       "      <th></th>\n",
       "      <th>Temparature</th>\n",
       "      <th>Humidity</th>\n",
       "      <th>Moisture</th>\n",
       "      <th>Soil Type</th>\n",
       "      <th>Crop Type</th>\n",
       "      <th>Nitrogen</th>\n",
       "      <th>Potassium</th>\n",
       "      <th>Phosphorous</th>\n",
       "      <th>Fertilizer Name</th>\n",
       "    </tr>\n",
       "  </thead>\n",
       "  <tbody>\n",
       "    <tr>\n",
       "      <th>0</th>\n",
       "      <td>26</td>\n",
       "      <td>52</td>\n",
       "      <td>38</td>\n",
       "      <td>Sandy</td>\n",
       "      <td>Maize</td>\n",
       "      <td>37</td>\n",
       "      <td>0</td>\n",
       "      <td>0</td>\n",
       "      <td>Urea</td>\n",
       "    </tr>\n",
       "    <tr>\n",
       "      <th>1</th>\n",
       "      <td>29</td>\n",
       "      <td>52</td>\n",
       "      <td>45</td>\n",
       "      <td>Loamy</td>\n",
       "      <td>Sugarcane</td>\n",
       "      <td>12</td>\n",
       "      <td>0</td>\n",
       "      <td>36</td>\n",
       "      <td>DAP</td>\n",
       "    </tr>\n",
       "    <tr>\n",
       "      <th>2</th>\n",
       "      <td>34</td>\n",
       "      <td>65</td>\n",
       "      <td>62</td>\n",
       "      <td>Black</td>\n",
       "      <td>Cotton</td>\n",
       "      <td>7</td>\n",
       "      <td>9</td>\n",
       "      <td>30</td>\n",
       "      <td>14-35-14</td>\n",
       "    </tr>\n",
       "    <tr>\n",
       "      <th>3</th>\n",
       "      <td>32</td>\n",
       "      <td>62</td>\n",
       "      <td>34</td>\n",
       "      <td>Red</td>\n",
       "      <td>Tobacco</td>\n",
       "      <td>22</td>\n",
       "      <td>0</td>\n",
       "      <td>20</td>\n",
       "      <td>28-28</td>\n",
       "    </tr>\n",
       "    <tr>\n",
       "      <th>4</th>\n",
       "      <td>28</td>\n",
       "      <td>54</td>\n",
       "      <td>46</td>\n",
       "      <td>Clayey</td>\n",
       "      <td>Paddy</td>\n",
       "      <td>35</td>\n",
       "      <td>0</td>\n",
       "      <td>0</td>\n",
       "      <td>Urea</td>\n",
       "    </tr>\n",
       "  </tbody>\n",
       "</table>\n",
       "</div>"
      ],
      "text/plain": [
       "   Temparature  Humidity   Moisture Soil Type  Crop Type  Nitrogen  Potassium  \\\n",
       "0           26         52        38     Sandy      Maize        37          0   \n",
       "1           29         52        45     Loamy  Sugarcane        12          0   \n",
       "2           34         65        62     Black     Cotton         7          9   \n",
       "3           32         62        34       Red    Tobacco        22          0   \n",
       "4           28         54        46    Clayey      Paddy        35          0   \n",
       "\n",
       "   Phosphorous Fertilizer Name  \n",
       "0            0            Urea  \n",
       "1           36             DAP  \n",
       "2           30        14-35-14  \n",
       "3           20           28-28  \n",
       "4            0            Urea  "
      ]
     },
     "execution_count": 46,
     "metadata": {},
     "output_type": "execute_result"
    }
   ],
   "source": [
    "data = pd.read_csv(\"Fertilizer Prediction.csv\")\n",
    "data.head()"
   ]
  },
  {
   "cell_type": "code",
   "execution_count": 47,
   "metadata": {
    "colab": {
     "base_uri": "https://localhost:8080/"
    },
    "id": "jkvX90Rq4CW5",
    "outputId": "e8900426-e544-4525-de3a-99d50d1f352d"
   },
   "outputs": [],
   "source": [
    "# Obtain the unique values in the 'Fertilizer Name' column of the DataFrame\n",
    "unique_fertilizers = data[\"Fertilizer Name\"].unique()"
   ]
  },
  {
   "cell_type": "code",
   "execution_count": 5,
   "metadata": {
    "colab": {
     "base_uri": "https://localhost:8080/"
    },
    "id": "sHHQFsjR4KZ_",
    "outputId": "8dd5f0dc-87af-4464-8768-d5b344dcbd60"
   },
   "outputs": [
    {
     "data": {
      "text/plain": [
       "array(['Sandy', 'Loamy', 'Black', 'Red', 'Clayey'], dtype=object)"
      ]
     },
     "execution_count": 5,
     "metadata": {},
     "output_type": "execute_result"
    }
   ],
   "source": [
    "# Obtain the unique values in the \"Soil Type\" column of the DataFrame\n",
    "data[\"Soil Type\"].unique()"
   ]
  },
  {
   "cell_type": "code",
   "execution_count": 6,
   "metadata": {
    "colab": {
     "base_uri": "https://localhost:8080/"
    },
    "id": "gY-7RP_S4Mfj",
    "outputId": "140f44ba-d187-4d90-dec3-8bb11911d14c"
   },
   "outputs": [
    {
     "data": {
      "text/plain": [
       "array(['Maize', 'Sugarcane', 'Cotton', 'Tobacco', 'Paddy', 'Barley',\n",
       "       'Wheat', 'Millets', 'Oil seeds', 'Pulses', 'Ground Nuts'],\n",
       "      dtype=object)"
      ]
     },
     "execution_count": 6,
     "metadata": {},
     "output_type": "execute_result"
    }
   ],
   "source": [
    "data[\"Crop Type\"].unique()"
   ]
  },
  {
   "cell_type": "code",
   "execution_count": 7,
   "metadata": {
    "colab": {
     "base_uri": "https://localhost:8080/"
    },
    "id": "K14ONTuK4OWN",
    "outputId": "a8d045fd-7194-4054-cdca-0c98352e5793"
   },
   "outputs": [
    {
     "data": {
      "text/plain": [
       "Index(['Temparature', 'Humidity ', 'Moisture', 'Soil Type', 'Crop Type',\n",
       "       'Nitrogen', 'Potassium', 'Phosphorous', 'Fertilizer Name'],\n",
       "      dtype='object')"
      ]
     },
     "execution_count": 7,
     "metadata": {},
     "output_type": "execute_result"
    }
   ],
   "source": [
    "data.columns"
   ]
  },
  {
   "cell_type": "code",
   "execution_count": 8,
   "metadata": {
    "colab": {
     "base_uri": "https://localhost:8080/",
     "height": 320
    },
    "id": "W9i1R6H04Q8W",
    "outputId": "455b3df9-7d36-48da-ebd0-1d63d4dd965d"
   },
   "outputs": [
    {
     "data": {
      "image/png": "[encoded data removed]",
      "text/plain": [
       "<Figure size 900x500 with 1 Axes>"
      ]
     },
     "metadata": {},
     "output_type": "display_data"
    }
   ],
   "source": [
    "# Extract unique fertilizer names from the 'Fertilizer Name' column\n",
    "labels = data[\"Fertilizer Name\"].unique()\n",
    "\n",
    "# Count the occurrences of each unique fertilizer name\n",
    "counts = list(data[\"Fertilizer Name\"].value_counts())\n",
    "\n",
    "# Create a horizontal bar plot\n",
    "plt.figure(figsize=(9, 5))\n",
    "plt.barh(labels, counts)\n",
    "\n",
    "# Add text annotations for each bar to display the count\n",
    "for index, value in enumerate(counts):\n",
    "    plt.text(value, index, str(value))\n",
    "\n",
    "# Display the plot\n",
    "plt.show()\n"
   ]
  },
  {
   "cell_type": "code",
   "execution_count": 9,
   "metadata": {
    "colab": {
     "base_uri": "https://localhost:8080/",
     "height": 341
    },
    "id": "O_e45LZ14XbX",
    "outputId": "e1dbfed2-6195-497f-ce9b-a56a23eb3d7a"
   },
   "outputs": [],
   "source": [
    "# # Define the columns for continuous and categorical data\n",
    "# continuous_data_cols = [\"Temperature\", \"Humidity\", \"Moisture\", \"Nitrogen\", \"Phosphorous\"]\n",
    "# categorical_data_cols = [\"Soil Type\", \"Crop Type\"]\n",
    "\n",
    "# # Create a heatmap to visualize the correlation among continuous variables\n",
    "# # Using Seaborn (sns) library\n",
    "# sns.heatmap(data[continuous_data_cols].corr(), center=0, annot=True);\n"
   ]
  },
  {
   "cell_type": "code",
   "execution_count": 10,
   "metadata": {
    "id": "YpjrQCPS4aq4"
   },
   "outputs": [],
   "source": [
    "# Import the LabelEncoder from scikit-learn\n",
    "from sklearn.preprocessing import LabelEncoder\n",
    "\n",
    "# Create an instance of the LabelEncoder\n",
    "soil_type_label_encoder = LabelEncoder()\n",
    "\n",
    "# Use the fit_transform method to encode the 'Soil Type' column\n",
    "# The transformed values replace the original values in the DataFrame\n",
    "data[\"Soil Type\"] = soil_type_label_encoder.fit_transform(data[\"Soil Type\"])\n"
   ]
  },
  {
   "cell_type": "code",
   "execution_count": 11,
   "metadata": {
    "id": "O9Es1Lcm4cyq"
   },
   "outputs": [],
   "source": [
    "# Import the LabelEncoder from scikit-learn\n",
    "from sklearn.preprocessing import LabelEncoder\n",
    "\n",
    "# Create an instance of the LabelEncoder for 'Crop Type'\n",
    "crop_type_label_encoder = LabelEncoder()\n",
    "\n",
    "# Use the fit_transform method to encode the 'Crop Type' column\n",
    "# The transformed values replace the original values in the DataFrame\n",
    "data[\"Crop Type\"] = crop_type_label_encoder.fit_transform(data[\"Crop Type\"])\n"
   ]
  },
  {
   "cell_type": "code",
   "execution_count": 12,
   "metadata": {
    "colab": {
     "base_uri": "https://localhost:8080/"
    },
    "id": "2OMb_r2r4efn",
    "outputId": "8d83dcc2-06eb-47fb-a384-7a08022f944b"
   },
   "outputs": [
    {
     "name": "stdout",
     "output_type": "stream",
     "text": [
      "{0: 'Barley', 1: 'Cotton', 2: 'Ground Nuts', 3: 'Maize', 4: 'Millets', 5: 'Oil seeds', 6: 'Paddy', 7: 'Pulses', 8: 'Sugarcane', 9: 'Tobacco', 10: 'Wheat'}\n",
      "{0: 'Black', 1: 'Clayey', 2: 'Loamy', 3: 'Red', 4: 'Sandy'}\n"
     ]
    }
   ],
   "source": [
    "# Create a dictionary to map encoded crop types back to original labels\n",
    "croptype_dict = {}\n",
    "\n",
    "# Iterate over unique encoded values in 'Crop Type'\n",
    "for i in range(len(data[\"Crop Type\"].unique())):\n",
    "    # Use inverse_transform to map the encoded value back to the original label\n",
    "    original_label = crop_type_label_encoder.inverse_transform([i])[0]\n",
    "    # Add the mapping to the dictionary\n",
    "    croptype_dict[i] = original_label\n",
    "\n",
    "# Print the dictionary\n",
    "print(croptype_dict)\n",
    "\n",
    "# Create a dictionary to map encoded soil types back to original labels\n",
    "soiltype_dict = {}\n",
    "\n",
    "# Iterate over unique encoded values in 'Soil Type'\n",
    "for i in range(len(data[\"Soil Type\"].unique())):\n",
    "    # Use inverse_transform to map the encoded value back to the original label\n",
    "    original_label = soil_type_label_encoder.inverse_transform([i])[0]\n",
    "    # Add the mapping to the dictionary\n",
    "    soiltype_dict[i] = original_label\n",
    "\n",
    "# Print the dictionary\n",
    "print(soiltype_dict)\n"
   ]
  },
  {
   "cell_type": "code",
   "execution_count": 13,
   "metadata": {
    "id": "A4zyNle34gkO"
   },
   "outputs": [],
   "source": [
    "# Import the LabelEncoder from scikit-learn\n",
    "from sklearn.preprocessing import LabelEncoder\n",
    "\n",
    "# Create an instance of the LabelEncoder for 'Fertilizer Name'\n",
    "fertname_label_encoder = LabelEncoder()\n",
    "\n",
    "# Use the fit_transform method to encode the 'Fertilizer Name' column\n",
    "# The transformed values replace the original values in the DataFrame\n",
    "data[\"Fertilizer Name\"] = fertname_label_encoder.fit_transform(data[\"Fertilizer Name\"])\n"
   ]
  },
  {
   "cell_type": "code",
   "execution_count": 14,
   "metadata": {
    "colab": {
     "base_uri": "https://localhost:8080/"
    },
    "id": "UWA1_vXO4imq",
    "outputId": "b77d31fb-70d7-4fa2-ecff-df7f904a7a00"
   },
   "outputs": [
    {
     "name": "stdout",
     "output_type": "stream",
     "text": [
      "{0: '10-26-26', 1: '14-35-14', 2: '17-17-17', 3: '20-20', 4: '28-28', 5: 'DAP', 6: 'Urea'}\n"
     ]
    }
   ],
   "source": [
    "# Create a dictionary to map encoded fertilizer names back to original labels\n",
    "fertname_dict = {}\n",
    "\n",
    "# Iterate over unique encoded values in 'Fertilizer Name'\n",
    "for i in range(len(data[\"Fertilizer Name\"].unique())):\n",
    "    # Use inverse_transform to map the encoded value back to the original label\n",
    "    original_label = fertname_label_encoder.inverse_transform([i])[0]\n",
    "    # Add the mapping to the dictionary\n",
    "    fertname_dict[i] = original_label\n",
    "\n",
    "# Print the dictionary\n",
    "print(fertname_dict)\n"
   ]
  },
  {
   "cell_type": "code",
   "execution_count": 15,
   "metadata": {
    "colab": {
     "base_uri": "https://localhost:8080/",
     "height": 206
    },
    "id": "A2Z2KWlP4kXa",
    "outputId": "5f6eea23-d888-4728-c7f6-bed545205638"
   },
   "outputs": [
    {
     "data": {
      "text/html": [
       "<div>\n",
       "<style scoped>\n",
       "    .dataframe tbody tr th:only-of-type {\n",
       "        vertical-align: middle;\n",
       "    }\n",
       "\n",
       "    .dataframe tbody tr th {\n",
       "        vertical-align: top;\n",
       "    }\n",
       "\n",
       "    .dataframe thead th {\n",
       "        text-align: right;\n",
       "    }\n",
       "</style>\n",
       "<table border=\"1\" class=\"dataframe\">\n",
       "  <thead>\n",
       "    <tr style=\"text-align: right;\">\n",
       "      <th></th>\n",
       "      <th>Temparature</th>\n",
       "      <th>Humidity</th>\n",
       "      <th>Moisture</th>\n",
       "      <th>Soil Type</th>\n",
       "      <th>Crop Type</th>\n",
       "      <th>Nitrogen</th>\n",
       "      <th>Potassium</th>\n",
       "      <th>Phosphorous</th>\n",
       "      <th>Fertilizer Name</th>\n",
       "    </tr>\n",
       "  </thead>\n",
       "  <tbody>\n",
       "    <tr>\n",
       "      <th>0</th>\n",
       "      <td>26</td>\n",
       "      <td>52</td>\n",
       "      <td>38</td>\n",
       "      <td>4</td>\n",
       "      <td>3</td>\n",
       "      <td>37</td>\n",
       "      <td>0</td>\n",
       "      <td>0</td>\n",
       "      <td>6</td>\n",
       "    </tr>\n",
       "    <tr>\n",
       "      <th>1</th>\n",
       "      <td>29</td>\n",
       "      <td>52</td>\n",
       "      <td>45</td>\n",
       "      <td>2</td>\n",
       "      <td>8</td>\n",
       "      <td>12</td>\n",
       "      <td>0</td>\n",
       "      <td>36</td>\n",
       "      <td>5</td>\n",
       "    </tr>\n",
       "    <tr>\n",
       "      <th>2</th>\n",
       "      <td>34</td>\n",
       "      <td>65</td>\n",
       "      <td>62</td>\n",
       "      <td>0</td>\n",
       "      <td>1</td>\n",
       "      <td>7</td>\n",
       "      <td>9</td>\n",
       "      <td>30</td>\n",
       "      <td>1</td>\n",
       "    </tr>\n",
       "    <tr>\n",
       "      <th>3</th>\n",
       "      <td>32</td>\n",
       "      <td>62</td>\n",
       "      <td>34</td>\n",
       "      <td>3</td>\n",
       "      <td>9</td>\n",
       "      <td>22</td>\n",
       "      <td>0</td>\n",
       "      <td>20</td>\n",
       "      <td>4</td>\n",
       "    </tr>\n",
       "    <tr>\n",
       "      <th>4</th>\n",
       "      <td>28</td>\n",
       "      <td>54</td>\n",
       "      <td>46</td>\n",
       "      <td>1</td>\n",
       "      <td>6</td>\n",
       "      <td>35</td>\n",
       "      <td>0</td>\n",
       "      <td>0</td>\n",
       "      <td>6</td>\n",
       "    </tr>\n",
       "  </tbody>\n",
       "</table>\n",
       "</div>"
      ],
      "text/plain": [
       "   Temparature  Humidity   Moisture  Soil Type  Crop Type  Nitrogen  \\\n",
       "0           26         52        38          4          3        37   \n",
       "1           29         52        45          2          8        12   \n",
       "2           34         65        62          0          1         7   \n",
       "3           32         62        34          3          9        22   \n",
       "4           28         54        46          1          6        35   \n",
       "\n",
       "   Potassium  Phosphorous  Fertilizer Name  \n",
       "0          0            0                6  \n",
       "1          0           36                5  \n",
       "2          9           30                1  \n",
       "3          0           20                4  \n",
       "4          0            0                6  "
      ]
     },
     "execution_count": 15,
     "metadata": {},
     "output_type": "execute_result"
    }
   ],
   "source": [
    "data.head()"
   ]
  },
  {
   "cell_type": "code",
   "execution_count": 16,
   "metadata": {
    "id": "IpY54SMQ4mUF"
   },
   "outputs": [],
   "source": [
    "# Extract features (X) by selecting all columns except the last one\n",
    "X = data[data.columns[:-1]]\n",
    "\n",
    "# Extract the target variable (y) by selecting the last column\n",
    "y = data[data.columns[-1]]\n"
   ]
  },
  {
   "cell_type": "code",
   "execution_count": 17,
   "metadata": {
    "colab": {
     "base_uri": "https://localhost:8080/"
    },
    "id": "IOClAIBH4obE",
    "outputId": "58ffa130-d6f1-4385-9f01-e70e2d689675"
   },
   "outputs": [
    {
     "data": {
      "text/plain": [
       "Counter({6: 22, 5: 18, 4: 17, 1: 14, 3: 14, 2: 7, 0: 7})"
      ]
     },
     "execution_count": 17,
     "metadata": {},
     "output_type": "execute_result"
    }
   ],
   "source": [
    "counter = Counter(y)\n",
    "counter"
   ]
  },
  {
   "cell_type": "code",
   "execution_count": 18,
   "metadata": {
    "colab": {
     "base_uri": "https://localhost:8080/"
    },
    "id": "ActV6RMD4uE9",
    "outputId": "41a09a04-a73a-4841-8de4-de8423052e18"
   },
   "outputs": [
    {
     "name": "stdout",
     "output_type": "stream",
     "text": [
      "Total Data after Upsampling: 99\n"
     ]
    }
   ],
   "source": [
    "print(f\"Total Data after Upsampling: {len(X)}\")"
   ]
  },
  {
   "cell_type": "code",
   "execution_count": 19,
   "metadata": {
    "id": "w5RTQDCe4xLh"
   },
   "outputs": [],
   "source": [
    "# Initialzing empty lists to append all model's name and corresponding name\n",
    "acc = []\n",
    "model = []"
   ]
  },
  {
   "cell_type": "code",
   "execution_count": 20,
   "metadata": {
    "colab": {
     "base_uri": "https://localhost:8080/"
    },
    "id": "2tEbI_iS4zbT",
    "outputId": "00dfbdd1-bc4b-4bbc-8cad-e1b079d2029e"
   },
   "outputs": [
    {
     "name": "stdout",
     "output_type": "stream",
     "text": [
      "Train Data: (79, 8), (79,)\n",
      "Train Data: (20, 8), (20,)\n"
     ]
    }
   ],
   "source": [
    "X_train, X_test, y_train, y_test = train_test_split(X.values, y, test_size = 0.2, random_state = 3)\n",
    "print(f\"Train Data: {X_train.shape}, {y_train.shape}\")\n",
    "print(f\"Train Data: {X_test.shape}, {y_test.shape}\")"
   ]
  },
  {
   "cell_type": "markdown",
   "metadata": {},
   "source": [
    "**K-NEAREST NEIGHBORS (KNN)**"
   ]
  },
  {
   "cell_type": "code",
   "execution_count": 21,
   "metadata": {
    "id": "RDY1zFaf495T"
   },
   "outputs": [],
   "source": [
    "from sklearn.neighbors import KNeighborsClassifier"
   ]
  },
  {
   "cell_type": "code",
   "execution_count": 22,
   "metadata": {
    "colab": {
     "base_uri": "https://localhost:8080/"
    },
    "id": "xPDxkJ6O5CI-",
    "outputId": "9fd14b3e-540e-433d-d877-760e260dc4d0"
   },
   "outputs": [
    {
     "name": "stdout",
     "output_type": "stream",
     "text": [
      "KNN Accuracy is:  80.0\n",
      "              precision    recall  f1-score   support\n",
      "\n",
      "           0       0.00      0.00      0.00         0\n",
      "           1       0.67      0.50      0.57         4\n",
      "           2       1.00      0.50      0.67         2\n",
      "           3       1.00      1.00      1.00         3\n",
      "           4       1.00      1.00      1.00         5\n",
      "           5       0.50      0.50      0.50         2\n",
      "           6       1.00      1.00      1.00         4\n",
      "\n",
      "    accuracy                           0.80        20\n",
      "   macro avg       0.74      0.64      0.68        20\n",
      "weighted avg       0.88      0.80      0.83        20\n",
      "\n"
     ]
    }
   ],
   "source": [
    "# Import the KNeighborsClassifier from scikit-learn\n",
    "from sklearn.neighbors import KNeighborsClassifier\n",
    "from sklearn import metrics\n",
    "from sklearn.metrics import classification_report\n",
    "\n",
    "# Create an instance of KNeighborsClassifier\n",
    "KNN = KNeighborsClassifier()\n",
    "\n",
    "# Fit the model with the training data\n",
    "KNN.fit(X_train, y_train)\n",
    "\n",
    "# Make predictions on the test set\n",
    "predicted = KNN.predict(X_test)\n",
    "\n",
    "# Calculate and store the accuracy score\n",
    "x = metrics.accuracy_score(y_test, predicted)\n",
    "acc.append(x)\n",
    "\n",
    "# Store the model name for reference\n",
    "model.append('K Nearest Neighbours')\n",
    "\n",
    "# Print the accuracy score\n",
    "print(\"KNN Accuracy is: \", x * 100)\n",
    "\n",
    "# Display the classification report\n",
    "print(classification_report(y_test, predicted))\n"
   ]
  },
  {
   "cell_type": "markdown",
   "metadata": {},
   "source": [
    "The output you provided is from the classification report, which is a summary of the performance metrics for each class in a classification task. Here's a brief explanation:\n",
    "\n",
    "- KNN Accuracy is: 80.0%: This is the overall accuracy of the K Nearest Neighbors (KNN) classifier on the test set. It indicates that the model correctly predicted the class labels for 80% of the instances in the test set.\n",
    "\n",
    "- Precision: Precision is a measure of how many of the predicted positive instances are actually positive. For example:\n",
    "\n",
    "- Precision for class 1 (1 in the classification report): 67% indicates that 67% of instances predicted as class 1 were correctly classified.\n",
    "- Precision for class 2: 100% indicates that all instances predicted as class 2 were correctly classified.\n",
    "- Recall: Recall is a measure of how many of the actual positive instances were correctly predicted. For example:\n",
    "\n",
    "- Recall for class 1: 50% indicates that 50% of actual instances of class 1 were correctly predicted.\n",
    "- Recall for class 2: 50% indicates that 50% of actual instances of class 2 were correctly predicted.\n",
    "- F1-Score: The F1-score is the harmonic mean of precision and recall, providing a balance between the two metrics.\n",
    "\n",
    "- Support: Support represents the number of actual occurrences of each class in the test set.\n",
    "\n",
    "- Macro avg: This is the average of precision, recall, and F1-score across all classes, giving equal weight to each class.\n",
    "\n",
    "- Weighted avg: This is the weighted average of precision, recall, and F1-score, with weights based on the number of true instances for each class."
   ]
  },
  {
   "cell_type": "markdown",
   "metadata": {},
   "source": [
    "**SUPPORT VECTOR MACHINE (SVM)**"
   ]
  },
  {
   "cell_type": "code",
   "execution_count": 23,
   "metadata": {
    "id": "bI82cW0W5E6E"
   },
   "outputs": [],
   "source": [
    "from sklearn.svm import SVC"
   ]
  },
  {
   "cell_type": "code",
   "execution_count": 24,
   "metadata": {
    "colab": {
     "base_uri": "https://localhost:8080/"
    },
    "id": "_6CaHgr35HVr",
    "outputId": "38b5caca-ed84-4749-f172-9c2bf9a93f9d"
   },
   "outputs": [
    {
     "name": "stdout",
     "output_type": "stream",
     "text": [
      "SVC Accuracy is:  70.0\n",
      "              precision    recall  f1-score   support\n",
      "\n",
      "           1       0.00      0.00      0.00         4\n",
      "           2       0.00      0.00      0.00         2\n",
      "           3       0.60      1.00      0.75         3\n",
      "           4       1.00      1.00      1.00         5\n",
      "           5       0.33      1.00      0.50         2\n",
      "           6       1.00      1.00      1.00         4\n",
      "\n",
      "    accuracy                           0.70        20\n",
      "   macro avg       0.49      0.67      0.54        20\n",
      "weighted avg       0.57      0.70      0.61        20\n",
      "\n"
     ]
    }
   ],
   "source": [
    "# Importing the SVC (Support Vector Classifier) class and metrics from scikit-learn\n",
    "from sklearn.svm import SVC\n",
    "from sklearn import metrics\n",
    "\n",
    "# Create an instance of the SVC class with probability estimates enabled\n",
    "SVC = SVC(probability=True)\n",
    "\n",
    "# Train the SVC model using the training dataset\n",
    "# X_train contains the features, y_train contains the corresponding labels\n",
    "SVC.fit(X_train, y_train)\n",
    "\n",
    "# Predict the labels for the test dataset\n",
    "predicted = SVC.predict(X_test)\n",
    "\n",
    "# Calculate the accuracy of the model on the test dataset\n",
    "# y_test contains the true labels, and 'predicted' contains the predicted labels\n",
    "x = metrics.accuracy_score(y_test, predicted)\n",
    "\n",
    "# Append the accuracy score to the 'acc' list (assuming 'acc' is predefined)\n",
    "acc.append(x)\n",
    "\n",
    "# Append the string 'SVC' to the 'model' list (assuming 'model' is predefined)\n",
    "model.append('SVC')\n",
    "\n",
    "# Print the accuracy of the model in percentage\n",
    "print(\"SVC Accuracy is: \", x * 100)\n",
    "\n",
    "# Print the classification report showing main classification metrics\n",
    "# This includes precision, recall, f1-score for each class\n",
    "print(classification_report(y_test, predicted))\n"
   ]
  },
  {
   "cell_type": "markdown",
   "metadata": {},
   "source": [
    "- SVC Accuracy is: 70.0%: This is the overall accuracy of the Support Vector Classifier on the test set, indicating that the model correctly predicted the class labels for 70% of the instances.\n",
    "\n",
    "- Precision: Precision measures how many of the predicted positive instances are actually positive.\n",
    "\n",
    "- Precision for class 1: 0% indicates that none of the instances predicted as class 1 were correctly classified.\n",
    "- Precision for class 2: 0% indicates that none of the instances predicted as class 2 were correctly classified.\n",
    "- Precision for class 3: 60% indicates that 60% of instances predicted as class 3 were correctly classified.\n",
    "- Precision for class 4: 100% indicates that all instances predicted as class 4 were correctly classified.\n",
    "- Precision for class 5: 33% indicates that 33% of instances predicted as class 5 were correctly classified.\n",
    "- Precision for class 6: 100% indicates that all instances predicted as class 6 were correctly classified.\n",
    "- Recall: Recall measures how many of the actual positive instances were correctly predicted.\n",
    "\n",
    "- Recall for class 1: 0% indicates that none of the actual instances of class 1 were correctly predicted.\n",
    "- Recall for class 2: 0% indicates that none of the actual instances of class 2 were correctly predicted.\n",
    "- Recall for class 3: 100% indicates that all actual instances of class 3 were correctly predicted.\n",
    "- Recall for class 4: 100% indicates that all actual instances of class 4 were correctly predicted.\n",
    "- Recall for class 5: 100% indicates that all actual instances of class 5 were correctly predicted.\n",
    "- Recall for class 6: 100% indicates that all actual instances of class 6 were correctly predicted.\n",
    "- F1-Score: The F1-score is the harmonic mean of precision and recall, providing a balance between the two metrics.\n",
    "\n",
    "- Support: Support represents the number of actual occurrences of each class in the test set.\n",
    "\n",
    "- Macro avg: This is the average of precision, recall, and F1-score across all classes, giving equal weight to each class.\n",
    "\n",
    "- Weighted avg: This is the weighted average of precision, recall, and F1-score, with weights based on the number of true instances for each class."
   ]
  },
  {
   "cell_type": "markdown",
   "metadata": {},
   "source": [
    "**ACCURACY COMPARISION**"
   ]
  },
  {
   "cell_type": "code",
   "execution_count": 25,
   "metadata": {
    "colab": {
     "base_uri": "https://localhost:8080/",
     "height": 744
    },
    "id": "7yaPrwNl5Vd2",
    "outputId": "47b6cc13-8aea-41a0-f906-57d3ba0375fb"
   },
   "outputs": [
    {
     "data": {
      "image/png": "[encoded data removed]",
      "text/plain": [
       "<Figure size 1200x800 with 1 Axes>"
      ]
     },
     "metadata": {},
     "output_type": "display_data"
    }
   ],
   "source": [
    "plt.figure(figsize = [12,8],dpi = 100)\n",
    "plt.title('Accuracy Comparision')\n",
    "plt.xlabel('Accuracy')\n",
    "plt.ylabel('Algorithms')\n",
    "sns.barplot(x = acc,y = model,palette = 'dark');"
   ]
  },
  {
   "cell_type": "code",
   "execution_count": 26,
   "metadata": {
    "colab": {
     "base_uri": "https://localhost:8080/"
    },
    "id": "XXlZzPzg5X9S",
    "outputId": "ebcfe2c9-98a7-4491-d0f0-3dd62ce685f5"
   },
   "outputs": [
    {
     "name": "stdout",
     "output_type": "stream",
     "text": [
      "K Nearest Neighbours --> 80.0 %\n",
      "SVC --> 70.0 %\n"
     ]
    }
   ],
   "source": [
    "accuracy_models = dict(zip(model,acc))\n",
    "for k,v in accuracy_models.items():\n",
    "  print(k,'-->',v* 100,'%')"
   ]
  },
  {
   "cell_type": "markdown",
   "metadata": {},
   "source": [
    "1. K Nearest Neighbours --> 80.0 %: This indicates that the K Nearest Neighbours model correctly predicted the class or label of the data points 80% of the time. KNN is a type of instance-based learning or non-generalizing learning. It does not attempt to construct a general internal model but stores instances of the training data. Classification is computed from a simple majority vote of the nearest neighbors of each point.\n",
    "\n",
    "2. SVC --> 70.0 %: This shows that the Support Vector Classifier model had an accuracy of 70%. This means that in 70% of the cases, the SVC model correctly identified the class or label of the data points. SVC is a powerful, versatile machine learning algorithm, especially for classification tasks. It works well in high dimensional spaces and is effective in cases where the number of dimensions is greater than the number of samples.\n",
    "\n",
    "\n",
    " A higher percentage indicates better performance. In your case, the K Nearest Neighbours model outperformed the Support Vector Classifier with an accuracy of 80% compared to 70%."
   ]
  },
  {
   "cell_type": "markdown",
   "metadata": {},
   "source": [
    "## Fine Tunning "
   ]
  },
  {
   "cell_type": "markdown",
   "metadata": {},
   "source": [
    "### Method1: GridSearchCV"
   ]
  },
  {
   "cell_type": "code",
   "execution_count": 27,
   "metadata": {},
   "outputs": [
    {
     "name": "stdout",
     "output_type": "stream",
     "text": [
      "Fitting 3 folds for each of 6 candidates, totalling 18 fits\n",
      "Fitting 3 folds for each of 6 candidates, totalling 18 fits\n",
      "KNeighborsClassifier Best Accuracy: 0.8865\n",
      "Classification Report:\n",
      "               precision    recall  f1-score   support\n",
      "\n",
      "           1       1.00      0.75      0.86         4\n",
      "           2       1.00      0.50      0.67         2\n",
      "           3       0.75      1.00      0.86         3\n",
      "           4       1.00      1.00      1.00         5\n",
      "           5       0.67      1.00      0.80         2\n",
      "           6       1.00      1.00      1.00         4\n",
      "\n",
      "    accuracy                           0.90        20\n",
      "   macro avg       0.90      0.88      0.86        20\n",
      "weighted avg       0.93      0.90      0.90        20\n",
      "\n",
      "Confusion Matrix:\n",
      " [[3 0 0 0 1 0]\n",
      " [0 1 1 0 0 0]\n",
      " [0 0 3 0 0 0]\n",
      " [0 0 0 5 0 0]\n",
      " [0 0 0 0 2 0]\n",
      " [0 0 0 0 0 4]]\n",
      "SVC Best Accuracy: 0.9744\n",
      "Classification Report:\n",
      "               precision    recall  f1-score   support\n",
      "\n",
      "           1       1.00      1.00      1.00         4\n",
      "           2       1.00      1.00      1.00         2\n",
      "           3       1.00      1.00      1.00         3\n",
      "           4       1.00      1.00      1.00         5\n",
      "           5       1.00      1.00      1.00         2\n",
      "           6       1.00      1.00      1.00         4\n",
      "\n",
      "    accuracy                           1.00        20\n",
      "   macro avg       1.00      1.00      1.00        20\n",
      "weighted avg       1.00      1.00      1.00        20\n",
      "\n",
      "Confusion Matrix:\n",
      " [[4 0 0 0 0 0]\n",
      " [0 2 0 0 0 0]\n",
      " [0 0 3 0 0 0]\n",
      " [0 0 0 5 0 0]\n",
      " [0 0 0 0 2 0]\n",
      " [0 0 0 0 0 4]]\n",
      "All models have been tuned and their accuracies and other metrics have been evaluated.\n"
     ]
    }
   ],
   "source": [
    "from sklearn.model_selection import GridSearchCV\n",
    "from sklearn.neighbors import KNeighborsClassifier\n",
    "from sklearn.svm import SVC\n",
    "from sklearn.metrics import classification_report, confusion_matrix\n",
    "from sklearn.model_selection import train_test_split\n",
    "\n",
    "# Sample data split (replace X and y with your actual data)\n",
    "# X_train, X_test, y_train, y_test = train_test_split(X, y, test_size=0.2)\n",
    "\n",
    "# Initialize the models\n",
    "knn_model = KNeighborsClassifier()\n",
    "svm_model = SVC()\n",
    "\n",
    "# Define the hyperparameter grids for each model\n",
    "param_grid = {\n",
    "    KNeighborsClassifier: {'n_neighbors': [3, 5, 7], 'weights': ['uniform', 'distance']},\n",
    "    SVC: {'C': [0.1, 1, 10], 'kernel': ['rbf', 'poly']}\n",
    "}\n",
    "\n",
    "# Dictionary to store the best models and their evaluation metrics\n",
    "best_models = {}\n",
    "\n",
    "# Perform Grid Search for each model\n",
    "for model_cls, params in param_grid.items():\n",
    "    model = model_cls()\n",
    "    grid_search = GridSearchCV(model, params, cv=3, n_jobs=-1, verbose=2)\n",
    "    grid_search.fit(X_train, y_train)\n",
    "\n",
    "    # Get the best model\n",
    "    best_model = grid_search.best_estimator_\n",
    "\n",
    "    # Predict on test set\n",
    "    predictions = best_model.predict(X_test)\n",
    "\n",
    "    # Calculate accuracy, classification report, and confusion matrix\n",
    "    accuracy = grid_search.best_score_\n",
    "    class_report = classification_report(y_test, predictions)\n",
    "    conf_matrix = confusion_matrix(y_test, predictions)\n",
    "\n",
    "    # Store the best model and its evaluation metrics\n",
    "    best_models[model_cls.__name__] = {\n",
    "        'model': best_model, \n",
    "        'accuracy': accuracy, \n",
    "        'classification_report': class_report, \n",
    "        'confusion_matrix': conf_matrix\n",
    "    }\n",
    "\n",
    "# Print the best accuracy and other metrics for each model\n",
    "for model_name, model_info in best_models.items():\n",
    "    print(f\"{model_name} Best Accuracy: {model_info['accuracy']:.4f}\")\n",
    "    print(\"Classification Report:\\n\", model_info['classification_report'])\n",
    "    print(\"Confusion Matrix:\\n\", model_info['confusion_matrix'])\n",
    "\n",
    "# Print completion message\n",
    "print(\"All models have been tuned and their accuracies and other metrics have been evaluated.\")\n"
   ]
  },
  {
   "cell_type": "markdown",
   "metadata": {},
   "source": [
    "The output you provided shows the results of model evaluation and hyperparameter tuning for two machine learning models: K Nearest Neighbors Classifier (KNN) and Support Vector Classifier (SVC). Let's break down the information:\n",
    "\n",
    "1. Fitting 3 folds for each of 6 candidates, totaling 18 fits:\n",
    "\n",
    "This message indicates that for both KNN and SVC, a grid search was performed with cross-validation.\n",
    "There were 3 folds (parts) of the dataset used in cross-validation, and 6 different combinations of hyperparameters were tested for each model.\n",
    "In total, 18 different fits were performed for each model (3 folds × 6 hyperparameter combinations).\n",
    "\n",
    "2. KNeighborsClassifier Best Accuracy: 0.8865:\n",
    "\n",
    "The KNN model achieved the best cross-validation accuracy of approximately 88.65%.\n",
    "This is the average accuracy across the cross-validation folds for the best combination of hyperparameters.\n",
    "\n",
    "- KNN Classification Report and Confusion Matrix:\n",
    "\n",
    "The report shows precision, recall, and F1-score for each class (1 through 6) along with overall accuracy.\n",
    "Precision is the ratio of correctly predicted positive observations to the total predicted positives.\n",
    "Recall (sensitivity) is the ratio of correctly predicted positive observations to all actual positives.\n",
    "F1-score is the weighted average of Precision and Recall.\n",
    "The confusion matrix for KNN shows the number of correct and incorrect predictions for each class. For instance, class 1 has 3 true positives and 1 false negative.\n",
    "\n",
    "3. SVC Best Accuracy: 0.9744:\n",
    "\n",
    "The SVC model achieved the best cross-validation accuracy of approximately 97.44%.\n",
    "This indicates that SVC, with its best hyperparameter settings, performed better than KNN in terms of cross-validation accuracy.\n",
    "\n",
    "- SVC Classification Report and Confusion Matrix:\n",
    "\n",
    "The classification report for SVC shows that it achieved perfect precision, recall, and F1-score for each class, indicating excellent performance.\n",
    "\n",
    "\n",
    "The confusion matrix for SVC shows that it correctly classified all instances in the test set, with no misclassifications.\n",
    "In summary, both models performed well, but SVC outperformed KNN in terms of cross-validation accuracy and classification metrics on the test dataset. The perfect scores for SVC in the test set should be interpreted with caution, as it might be indicative of overfitting, especially if the test set is small or not representative of the general population."
   ]
  },
  {
   "cell_type": "raw",
   "metadata": {},
   "source": []
  },
  {
   "cell_type": "markdown",
   "metadata": {},
   "source": [
    "### Previous Results:\n",
    "\n",
    "- K Nearest Neighbours (KNN): 80.0%\n",
    "- Support Vector Classifier (SVC): 70.0%\n",
    "\n",
    "### New Results:\n",
    "- K Nearest Neighbours (KNN): Best Accuracy: 88.65%\n",
    "- Classification Report: Varied precision, recall, and F1-scores for each class.\n",
    "- Confusion Matrix: Some misclassifications observed.\n",
    "- Support Vector Classifier (SVC): Best Accuracy: 97.44%\n",
    "- Classification Report: Perfect precision, recall, and F1-scores for each class.\n",
    "- Confusion Matrix: No misclassifications, perfect classification.\n",
    "\n",
    "## Comparison:\n",
    "\n",
    "1. Accuracy Improvement:\n",
    "\n",
    "- Both models show an improvement in accuracy in the new results. KNN improved from 80.0% to 88.65%, and SVC improved significantly from 70.0% to 97.44%.\n",
    "\n",
    "2. Model Performance:\n",
    "\n",
    "- In the previous results, KNN was performing better than SVC. However, in the new results, SVC not only improved but surpassed KNN, showing near-perfect accuracy and classification metrics."
   ]
  },
  {
   "cell_type": "markdown",
   "metadata": {},
   "source": [
    "### Method2: RandomizedSearchCV"
   ]
  },
  {
   "cell_type": "code",
   "execution_count": 28,
   "metadata": {},
   "outputs": [
    {
     "name": "stdout",
     "output_type": "stream",
     "text": [
      "Performing Randomized Search for SVC...\n",
      "Fitting 5 folds for each of 24 candidates, totalling 120 fits\n",
      "Performing Randomized Search for KNeighborsClassifier...\n",
      "Fitting 5 folds for each of 100 candidates, totalling 500 fits\n",
      "Best SVC:\n",
      "SVC(C=0.1, kernel='linear')\n",
      "\n",
      "Best KNeighborsClassifier:\n",
      "KNeighborsClassifier(algorithm='ball_tree', n_neighbors=1)\n",
      "\n"
     ]
    }
   ],
   "source": [
    "from sklearn.model_selection import RandomizedSearchCV\n",
    "from sklearn.ensemble import RandomForestClassifier\n",
    "from sklearn.svm import SVC\n",
    "from sklearn.neighbors import KNeighborsClassifier\n",
    "\n",
    "def perform_randomized_search(models_params, X_train, y_train, n_iter=100, cv=5, random_state=42):\n",
    "    \"\"\"\n",
    "    Perform Randomized Search for multiple models and parameter distributions.\n",
    "\n",
    "    Parameters:\n",
    "    models_params: Dictionary with models and their hyperparameter distributions\n",
    "    X_train: Training data (features)\n",
    "    y_train: Training data (target)\n",
    "    n_iter: Number of parameter settings sampled\n",
    "    cv: Number of folds in cross-validation\n",
    "\n",
    "    Returns:\n",
    "    Dictionary of best estimators for each model\n",
    "    \"\"\"\n",
    "    best_models = {}\n",
    "    for model_cls, params in models_params.items():\n",
    "        print(f\"Performing Randomized Search for {model_cls.__name__}...\")\n",
    "        random_search = RandomizedSearchCV(model_cls(), params, n_iter=n_iter, cv=cv, verbose=2, random_state=random_state, n_jobs=-1)\n",
    "        random_search.fit(X_train, y_train)\n",
    "        best_models[model_cls.__name__] = random_search.best_estimator_\n",
    "    return best_models\n",
    "\n",
    "# Define models and their hyperparameter distributions\n",
    "models_params = {\n",
    "   \n",
    "    SVC: {\n",
    "        'C': [0.1, 1, 10, 100],\n",
    "        'gamma': ['scale', 'auto'],\n",
    "        'kernel': ['linear', 'rbf', 'poly']\n",
    "    },\n",
    "    KNeighborsClassifier: {\n",
    "        'n_neighbors': range(1, 31),\n",
    "        'weights': ['uniform', 'distance'],\n",
    "        'algorithm': ['auto', 'ball_tree', 'kd_tree', 'brute']\n",
    "    }\n",
    "}\n",
    "\n",
    "# Perform Randomized Search for all models\n",
    "best_models = perform_randomized_search(models_params, X_train, y_train)\n",
    "\n",
    "# Print best models\n",
    "for model_name, model in best_models.items():\n",
    "    print(f\"Best {model_name}:\\n{model}\\n\")"
   ]
  },
  {
   "cell_type": "code",
   "execution_count": 29,
   "metadata": {},
   "outputs": [
    {
     "name": "stdout",
     "output_type": "stream",
     "text": [
      "Best SVC Model:\n",
      "SVC(C=0.1, kernel='linear')\n",
      "\n",
      "Accuracy: 1.0000\n",
      "Classification Report:\n",
      "               precision    recall  f1-score   support\n",
      "\n",
      "           1       1.00      1.00      1.00         4\n",
      "           2       1.00      1.00      1.00         2\n",
      "           3       1.00      1.00      1.00         3\n",
      "           4       1.00      1.00      1.00         5\n",
      "           5       1.00      1.00      1.00         2\n",
      "           6       1.00      1.00      1.00         4\n",
      "\n",
      "    accuracy                           1.00        20\n",
      "   macro avg       1.00      1.00      1.00        20\n",
      "weighted avg       1.00      1.00      1.00        20\n",
      "\n",
      "Confusion Matrix:\n",
      " [[4 0 0 0 0 0]\n",
      " [0 2 0 0 0 0]\n",
      " [0 0 3 0 0 0]\n",
      " [0 0 0 5 0 0]\n",
      " [0 0 0 0 2 0]\n",
      " [0 0 0 0 0 4]]\n",
      "\n",
      "\n",
      "Best KNeighborsClassifier Model:\n",
      "KNeighborsClassifier(algorithm='ball_tree', n_neighbors=1)\n",
      "\n",
      "Accuracy: 0.9500\n",
      "Classification Report:\n",
      "               precision    recall  f1-score   support\n",
      "\n",
      "           1       1.00      1.00      1.00         4\n",
      "           2       1.00      0.50      0.67         2\n",
      "           3       0.75      1.00      0.86         3\n",
      "           4       1.00      1.00      1.00         5\n",
      "           5       1.00      1.00      1.00         2\n",
      "           6       1.00      1.00      1.00         4\n",
      "\n",
      "    accuracy                           0.95        20\n",
      "   macro avg       0.96      0.92      0.92        20\n",
      "weighted avg       0.96      0.95      0.95        20\n",
      "\n",
      "Confusion Matrix:\n",
      " [[4 0 0 0 0 0]\n",
      " [0 1 1 0 0 0]\n",
      " [0 0 3 0 0 0]\n",
      " [0 0 0 5 0 0]\n",
      " [0 0 0 0 2 0]\n",
      " [0 0 0 0 0 4]]\n",
      "\n",
      "\n"
     ]
    }
   ],
   "source": [
    "from sklearn.metrics import classification_report, confusion_matrix, accuracy_score\n",
    "\n",
    "# Assuming you already have a test set defined as X_test and y_test\n",
    "\n",
    "# Evaluate each model\n",
    "for model_name, model in best_models.items():\n",
    "    # Predict on test data\n",
    "    predictions = model.predict(X_test)\n",
    "\n",
    "    # Calculate accuracy\n",
    "    accuracy = accuracy_score(y_test, predictions)\n",
    "\n",
    "    # Print the best model, its accuracy, classification report, and confusion matrix\n",
    "    print(f\"Best {model_name} Model:\\n{model}\\n\")\n",
    "    print(f\"Accuracy: {accuracy:.4f}\")\n",
    "    print(\"Classification Report:\\n\", classification_report(y_test, predictions))\n",
    "    print(\"Confusion Matrix:\\n\", confusion_matrix(y_test, predictions))\n",
    "    print(\"\\n\")\n"
   ]
  },
  {
   "cell_type": "code",
   "execution_count": null,
   "metadata": {},
   "outputs": [],
   "source": []
  },
  {
   "cell_type": "markdown",
   "metadata": {},
   "source": [
    "Analysis of Randomized Search Results\n",
    "\n",
    "1. SVC Model:\n",
    "\n",
    "Accuracy: 100% (1.0000). This perfect accuracy suggests that the model is able to classify every instance in the test set correctly.\n",
    "Classification Report & Confusion Matrix: Both show perfect performance across all classes, with a precision, recall, and F1-score of 1.00 for each class.\n",
    "Concern: The perfection in all metrics is a strong indicator of overfitting. This suggests that the model might be too finely tuned to the training data, capturing noise and specific patterns that may not generalize well to new, unseen data.\n",
    "\n",
    "2. KNN Model:\n",
    "\n",
    "Accuracy: 95% (0.9500). This is a high accuracy but not perfect, suggesting good generalization on the test set.\n",
    "Classification Report & Confusion Matrix: Shows varied performance across classes. For example, class 2 has a lower recall, indicating some misclassification.\n",
    "Observation: The results seem more realistic and indicative of a model that generalizes better than the overfitted SVC model.\n",
    "Comparison with GridSearchCV\n",
    "\n",
    "- GridSearchCV vs. RandomizedSearchCV:\n",
    "\n",
    "GridSearchCV systematically works through multiple combinations of parameter tunes, cross-validating as it goes to determine which tune gives the best performance. It's more exhaustive but can be more time-consuming, especially with large parameter grids.\n",
    "RandomizedSearchCV, on the other hand, samples a fixed number of parameter settings from the specified distributions. This can be more efficient, especially when dealing with a large hyperparameter space or when each fit takes a considerable amount of time.\n",
    "\n",
    "- Expected Differences in Results:\n",
    "\n",
    "The results from GridSearchCV might differ from RandomizedSearchCV, particularly in terms of the hyperparameter combinations selected. GridSearchCV could potentially find a slightly better or more robust combination due to its exhaustive nature.\n",
    "However, the core concern of overfitting (as seen with the SVC model in RandomizedSearchCV) would likely remain unless addressed explicitly through techniques like adjusting the complexity of the model, using regularization, or employing cross-validation techniques more rigorously.\n",
    "\n",
    "- Addressing Overfitting\n",
    "Given the issue of overfitting observed in the SVC model from RandomizedSearchCV and after experimenting to solve the issue by hyper tuning with other models its still giving 100%,  I will prefer to use the results from GridSearchCV, especially as it provides a more realistic model performance. Additionally, I would have consider strategies to combat overfitting, such as using more data but i dont have access to this more data. "
   ]
  },
  {
   "cell_type": "markdown",
   "metadata": {
    "id": "tM8SeUh4cY2D"
   },
   "source": [
    "**CONCLUSION**"
   ]
  },
  {
   "cell_type": "code",
   "execution_count": 30,
   "metadata": {},
   "outputs": [],
   "source": [
    "# # Appending results from GridSearchCV \n",
    "\n",
    "# from sklearn.metrics import accuracy_score\n",
    "\n",
    "\n",
    "# # Initialzing empty lists to append all model's name and corresponding name\n",
    "# acc = []\n",
    "# model = []\n",
    "\n",
    "# # Loop through each model, predict on the test set, calculate accuracy, and append the results\n",
    "# for model_name, model_obj in best_models_grid_search.items():\n",
    "#     # Predicting using the best model from GridSearchCV\n",
    "#     y_pred = model_obj.predict(X_test)\n",
    "\n",
    "#     # Calculating accuracy\n",
    "#     accuracy = accuracy_score(y_test, y_pred)\n",
    "\n",
    "#     # Appending model name and accuracy to the lists\n",
    "#     model.append(model_name)\n",
    "#     acc.append(accuracy)\n",
    "\n",
    "# # Print the models and their accuracies\n",
    "# for m, a in zip(model, acc):\n",
    "#     print(f\"{m} Accuracy: {a * 100:.2f}%\")\n"
   ]
  },
  {
   "cell_type": "code",
   "execution_count": null,
   "metadata": {},
   "outputs": [],
   "source": []
  },
  {
   "cell_type": "markdown",
   "metadata": {},
   "source": [
    "We are using Random Forest Classifier because of its accuracy and precision"
   ]
  },
  {
   "cell_type": "code",
   "execution_count": 39,
   "metadata": {},
   "outputs": [
    {
     "name": "stdout",
     "output_type": "stream",
     "text": [
      "The top fertilizer predicted for the given input is: 17-17-17\n"
     ]
    }
   ],
   "source": [
    "import numpy as np\n",
    "\n",
    "# Your input data\n",
    "data = np.array([[104, 18, 40, 23.603016, 5, 60.3, 6.7, 140.91]])\n",
    "\n",
    "# Predict the class label for the input data\n",
    "predicted_class = best_model.predict(data)\n",
    "\n",
    "# Map the predicted class label to the fertilizer name using fertname_dict\n",
    "predicted_fertilizer = fertname_dict[predicted_class[0]]\n",
    "\n",
    "print(f\"The top fertilizer predicted for the given input is: {predicted_fertilizer}\")\n"
   ]
  },
  {
   "cell_type": "code",
   "execution_count": 40,
   "metadata": {},
   "outputs": [
    {
     "name": "stdout",
     "output_type": "stream",
     "text": [
      "Requirement already satisfied: joblib in c:\\users\\hp\\anaconda3\\lib\\site-packages (1.2.0)Note: you may need to restart the kernel to use updated packages.\n",
      "\n"
     ]
    }
   ],
   "source": [
    "pip install joblib\n"
   ]
  },
  {
   "cell_type": "code",
   "execution_count": 42,
   "metadata": {},
   "outputs": [
    {
     "name": "stdout",
     "output_type": "stream",
     "text": [
      "The best model has been saved to best_fertilizer_model.pkl\n"
     ]
    }
   ],
   "source": [
    "import joblib\n",
    "\n",
    "model_filename = 'best_fertilizer_model.pkl'\n",
    "\n",
    "# Save the best model using joblib\n",
    "joblib.dump(best_model, model_filename)\n",
    "\n",
    "print(f\"The best model has been saved to {model_filename}\")"
   ]
  },
  {
   "cell_type": "code",
   "execution_count": null,
   "metadata": {},
   "outputs": [],
   "source": []
  }
 ],
 "metadata": {
  "colab": {
   "provenance": []
  },
  "kernelspec": {
   "display_name": "Python 3 (ipykernel)",
   "language": "python",
   "name": "python3"
  },
  "language_info": {
   "codemirror_mode": {
    "name": "ipython",
    "version": 3
   },
   "file_extension": ".py",
   "mimetype": "text/x-python",
   "name": "python",
   "nbconvert_exporter": "python",
   "pygments_lexer": "ipython3",
   "version": "3.11.5"
  }
 },
 "nbformat": 4,
 "nbformat_minor": 1
}
